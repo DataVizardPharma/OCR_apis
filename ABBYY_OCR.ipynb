{
 "cells": [
  {
   "cell_type": "code",
   "execution_count": 428,
   "metadata": {
    "collapsed": true
   },
   "outputs": [],
   "source": [
    "from PIL import Image\n",
    "import pytesseract as pt\n",
    "import cv2\n",
    "import matplotlib.pyplot as plt\n",
    "import numpy as np\n",
    "from math import *\n",
    "from random import *"
   ]
  },
  {
   "cell_type": "code",
   "execution_count": 7,
   "metadata": {
    "collapsed": true
   },
   "outputs": [],
   "source": [
    "import argparse\n",
    "import base64\n",
    "import getopt\n",
    "import MultipartPostHandler\n",
    "import os\n",
    "import re\n",
    "import sys\n",
    "import time\n",
    "import urllib2\n",
    "import urllib\n",
    "import xml.dom.minidom\n",
    "\n",
    "class ProcessingSettings:\n",
    "\tLanguage = \"English\"\n",
    "\tOutputFormat = \"txt\"\n",
    "\n",
    "\n",
    "class Task:\n",
    "\tStatus = \"Unknown\"\n",
    "\tId = None\n",
    "\tDownloadUrl = None\n",
    "\tdef IsActive( self ):\n",
    "\t\tif self.Status == \"InProgress\" or self.Status == \"Queued\":\n",
    "\t\t\treturn True\n",
    "\t\telse:\n",
    "\t\t\treturn False\n",
    "\n",
    "class AbbyyOnlineSdk:\n",
    "\tServerUrl = \"http://cloud.ocrsdk.com/\"\n",
    "\t# To create an application and obtain a password,\n",
    "\t# register at http://cloud.ocrsdk.com/Account/Register\n",
    "\t# More info on getting your application id and password at\n",
    "\t# http://ocrsdk.com/documentation/faq/#faq3\n",
    "\tApplicationId = \"Integra+\"\n",
    "\tPassword = \"J0jNchAw53cXMPzhSUg+SkRj \"\n",
    "\tProxy = None\n",
    "\tenableDebugging = 0\n",
    "\n",
    "\tdef ProcessImage( self, filePath, settings ):\n",
    "\t\turlParams = urllib.urlencode({\n",
    "\t\t\t\"language\" : settings.Language,\n",
    "\t\t\t\"exportFormat\" : settings.OutputFormat\n",
    "\t\t\t})\n",
    "\t\trequestUrl = self.ServerUrl + \"processImage?\" + urlParams\n",
    "\n",
    "\t\tbodyParams = { \"file\" : open( filePath, \"rb\" )  }\n",
    "\t\trequest = urllib2.Request( requestUrl, None, self.buildAuthInfo() )\n",
    "\t\tresponse = self.getOpener().open(request, bodyParams).read()\n",
    "\t\tif response.find( '<Error>' ) != -1 :\n",
    "\t\t\treturn None\n",
    "\t\t# Any response other than HTTP 200 means error - in this case exception will be thrown\n",
    "\n",
    "\t\t# parse response xml and extract task ID\n",
    "\t\ttask = self.DecodeResponse( response )\n",
    "\t\treturn task\n",
    "\n",
    "\tdef GetTaskStatus( self, task ):\n",
    "\t\tif task.Id.find( '00000000-0' ) != -1 :\n",
    "\t\t\t#GUID_NULL is being passed. This may be caused by a logical error in the calling code\n",
    "\t\t\tprint \"Null task id passed\"\n",
    "\t\t\treturn None\n",
    "\n",
    "\t\turlParams = urllib.urlencode( { \"taskId\" : task.Id } )\n",
    "\t\tstatusUrl = self.ServerUrl + \"getTaskStatus?\" + urlParams\n",
    "\t\trequest = urllib2.Request( statusUrl, None, self.buildAuthInfo() )\n",
    "\t\tresponse = self.getOpener().open( request ).read()\n",
    "\t\ttask = self.DecodeResponse( response )\n",
    "\t\treturn task\n",
    "\n",
    "\tdef DownloadResult( self, task, outputPath ):\n",
    "\t\tgetResultUrl = task.DownloadUrl\n",
    "\t\tif getResultUrl == None :\n",
    "\t\t\tprint \"No download URL found\"\n",
    "\t\t\treturn\n",
    "\t\trequest = urllib2.Request( getResultUrl )\n",
    "\t\tfileResponse = self.getOpener().open( request ).read()\n",
    "\t\tresultFile = open( outputPath, \"wb\" )\n",
    "\t\tresultFile.write( fileResponse )\n",
    "\n",
    "\n",
    "\tdef DecodeResponse( self, xmlResponse ):\n",
    "\t\t\"\"\" Decode xml response of the server. Return Task object \"\"\"\n",
    "\t\tdom = xml.dom.minidom.parseString( xmlResponse )\n",
    "\t\ttaskNode = dom.getElementsByTagName( \"task\" )[0]\n",
    "\t\ttask = Task()\n",
    "\t\ttask.Id = taskNode.getAttribute( \"id\" )\n",
    "\t\ttask.Status = taskNode.getAttribute( \"status\" )\n",
    "\t\tif task.Status == \"Completed\":\n",
    "\t\t\ttask.DownloadUrl = taskNode.getAttribute( \"resultUrl\" )\n",
    "\t\treturn task\n",
    "\n",
    "\n",
    "\tdef buildAuthInfo( self ):\n",
    "\t\treturn { \"Authorization\" : \"Basic %s\" % base64.b64encode( \"%s:%s\" % (self.ApplicationId, self.Password) ) }\n",
    "\n",
    "\tdef getOpener( self ):\n",
    "\t\tif self.Proxy == None:\n",
    "\t\t\tself.opener = urllib2.build_opener( MultipartPostHandler.MultipartPostHandler,\n",
    "\t\t\turllib2.HTTPHandler(debuglevel=self.enableDebugging))\n",
    "\t\telse:\n",
    "\t\t\tself.opener = urllib2.build_opener( \n",
    "\t\t\t\tself.Proxy, \n",
    "\t\t\t\tMultipartPostHandler.MultipartPostHandler,\n",
    "\t\t\t\turllib2.HTTPHandler(debuglevel=self.enableDebugging))\n",
    "\t\treturn self.opener"
   ]
  },
  {
   "cell_type": "code",
   "execution_count": 48,
   "metadata": {
    "collapsed": true
   },
   "outputs": [],
   "source": [
    "first_task= Task()\n",
    "t= ProcessingSettings()\n",
    "ab_1=AbbyyOnlineSdk()\n",
    "filePath='/Users/assansanogo/Downloads/these_pictures/clonotril_clonazepam_2.jpg'\n",
    "\n",
    "\n",
    "first_task=ab_1.ProcessImage(filePath, t)"
   ]
  },
  {
   "cell_type": "code",
   "execution_count": 49,
   "metadata": {
    "collapsed": true
   },
   "outputs": [],
   "source": [
    "stat_1=ab_1.GetTaskStatus(first_task)"
   ]
  },
  {
   "cell_type": "code",
   "execution_count": 50,
   "metadata": {},
   "outputs": [
    {
     "data": {
      "text/plain": [
       "<__main__.Task instance at 0x10b527dd0>"
      ]
     },
     "execution_count": 50,
     "metadata": {},
     "output_type": "execute_result"
    }
   ],
   "source": [
    "stat_1"
   ]
  },
  {
   "cell_type": "code",
   "execution_count": 51,
   "metadata": {
    "collapsed": true
   },
   "outputs": [],
   "source": [
    "outputPath='/Users/assansanogo/Downloads/these_pictures/Q_ocr.txt'"
   ]
  },
  {
   "cell_type": "code",
   "execution_count": 52,
   "metadata": {
    "collapsed": true
   },
   "outputs": [],
   "source": [
    "ab_1.DownloadResult( stat_1, outputPath )"
   ]
  },
  {
   "cell_type": "code",
   "execution_count": 53,
   "metadata": {
    "collapsed": true
   },
   "outputs": [],
   "source": [
    "l=[]\n",
    "with open(outputPath,'r') as f:\n",
    "\n",
    "    l=f.read().split(\"\\r\")\n",
    "l2=list(map(str.strip,l))\n"
   ]
  },
  {
   "cell_type": "code",
   "execution_count": 54,
   "metadata": {},
   "outputs": [
    {
     "data": {
      "text/plain": [
       "['\\xef\\xbb\\xbfCLONOTRIL-2',\n",
       " '',\n",
       " '',\n",
       " '',\n",
       " '10 STRIPS OF 10 TABLETS EACH',\n",
       " '',\n",
       " 'Manutaci by',\n",
       " 'TORRENT PHARMACEUTICALS LTD',\n",
       " '3? No M oale Cam\\xc2\\xa9 NM-31A.',\n",
       " \"East DtV'iCt. Ganqto. Sik\\xc2\\xabim-737 135.\",\n",
       " '']"
      ]
     },
     "execution_count": 54,
     "metadata": {},
     "output_type": "execute_result"
    }
   ],
   "source": [
    "l2"
   ]
  },
  {
   "cell_type": "code",
   "execution_count": 55,
   "metadata": {
    "collapsed": true
   },
   "outputs": [],
   "source": [
    "def remove_unicode(x):\n",
    "    r=re.sub(r'[^\\x00-\\x7F]+','', x)\n",
    "    return r"
   ]
  },
  {
   "cell_type": "code",
   "execution_count": 56,
   "metadata": {
    "collapsed": true
   },
   "outputs": [],
   "source": [
    "l2=list(map(remove_unicode,l2))\n",
    "l2=[el for el in l2 if len(el)!=0]"
   ]
  },
  {
   "cell_type": "code",
   "execution_count": 57,
   "metadata": {},
   "outputs": [
    {
     "data": {
      "text/plain": [
       "['CLONOTRIL-2',\n",
       " '10 STRIPS OF 10 TABLETS EACH',\n",
       " 'Manutaci by',\n",
       " 'TORRENT PHARMACEUTICALS LTD',\n",
       " '3? No M oale Cam NM-31A.',\n",
       " \"East DtV'iCt. Ganqto. Sikim-737 135.\"]"
      ]
     },
     "execution_count": 57,
     "metadata": {},
     "output_type": "execute_result"
    }
   ],
   "source": [
    "l2"
   ]
  }
 ],
 "metadata": {
  "anaconda-cloud": {},
  "kernelspec": {
   "display_name": "Python [conda root]",
   "language": "python",
   "name": "conda-root-py"
  },
  "language_info": {
   "codemirror_mode": {
    "name": "ipython",
    "version": 2
   },
   "file_extension": ".py",
   "mimetype": "text/x-python",
   "name": "python",
   "nbconvert_exporter": "python",
   "pygments_lexer": "ipython2",
   "version": "2.7.10"
  }
 },
 "nbformat": 4,
 "nbformat_minor": 1
}
